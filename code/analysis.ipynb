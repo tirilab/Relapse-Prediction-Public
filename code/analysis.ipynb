{
 "cells": [
  {
   "cell_type": "code",
   "execution_count": 1,
   "id": "edfceb1f",
   "metadata": {},
   "outputs": [],
   "source": [
    "import os\n",
    "import numpy as np\n",
    "import pandas as pd\n",
    "from matplotlib import pyplot as plt\n",
    "import seaborn as sns\n",
    "from stats import statistical_test"
   ]
  },
  {
   "cell_type": "code",
   "execution_count": 3,
   "id": "cda928ff",
   "metadata": {},
   "outputs": [],
   "source": [
    "data_dir = './feature/'\n",
    "users = [user for user in sorted(os.listdir(data_dir)) if user[0].isalpha()]"
   ]
  },
  {
   "cell_type": "code",
   "execution_count": 4,
   "id": "8d01b9ae",
   "metadata": {},
   "outputs": [
    {
     "name": "stdout",
     "output_type": "stream",
     "text": [
      "# days of non-replase:  192\n",
      "# days of relapse:  257\n"
     ]
    }
   ],
   "source": [
    "# count events of non-relapse and relapse in train and val\n",
    "nr_tr = []\n",
    "nr_val = []\n",
    "r_val = []\n",
    "for i in range(10):\n",
    "    nr_tr.append(len(sorted(os.listdir(data_dir + users[i] + \"/train/non-relapse\"))[1:]))\n",
    "    nr_val.append(len(sorted(os.listdir(data_dir + users[i] + \"/val/non-relapse\"))[1:]))\n",
    "    r_val.append(len(sorted(os.listdir(data_dir + users[i] + \"/val/relapse\"))[1:]))\n",
    "\n",
    "print(\"# days of non-replase: \", sum(nr_val)) #+ sum(nr_val)\n",
    "print(\"# days of relapse: \", sum(r_val))"
   ]
  },
  {
   "cell_type": "code",
   "execution_count": 5,
   "id": "75f2e04a",
   "metadata": {},
   "outputs": [
    {
     "name": "stdout",
     "output_type": "stream",
     "text": [
      "[27, 17, 19, 18, 19, 25, 23, 24, 4, 16]\n",
      "[8, 49, 9, 15, 1, 20, 1, 87, 1, 66]\n",
      "[227, 170, 163, 157, 162, 202, 186, 221, 68, 147]\n"
     ]
    }
   ],
   "source": [
    "# count time intervals of non-relapse and relapse in train and val\n",
    "print(nr_val)\n",
    "print(r_val)\n",
    "print(nr_tr)"
   ]
  },
  {
   "cell_type": "code",
   "execution_count": 7,
   "id": "34576264",
   "metadata": {},
   "outputs": [
    {
     "data": {
      "image/png": "[encoded data removed]",
      "text/plain": [
       "<Figure size 1200x600 with 1 Axes>"
      ]
     },
     "metadata": {
      "needs_background": "light"
     },
     "output_type": "display_data"
    }
   ],
   "source": [
    "events = {\n",
    "    \"non-relapse\": nr_tr,\n",
    "    \"relapse\": r_val,\n",
    "    }\n",
    "width = 0.5\n",
    "\n",
    "\n",
    "# Create the figure\n",
    "# Desired figure size in pixels\n",
    "width_px = 1000\n",
    "height_px = 600\n",
    "\n",
    "# DPI (dots per inch)\n",
    "dpi = 100\n",
    "\n",
    "# Calculate figure size in inches\n",
    "fig_size_inches = (width_px / dpi, height_px / dpi)\n",
    "\n",
    "fig, ax = plt.subplots(figsize=fig_size_inches, dpi=dpi)\n",
    "fig.set_size_inches(12, 6)\n",
    "bottom = np.zeros(10)\n",
    "for boolean, event in events.items():\n",
    "    p = ax.bar(users, event, width, label=boolean, bottom=bottom)\n",
    "    bottom += event\n",
    "\n",
    "plt.rcParams['font.family'] = 'serif'\n",
    "plt.rcParams['font.serif'] = ['Arial'] \n",
    "plt.rcParams['font.size'] = 14\n",
    "ax.set_title(\"Days of relapse and non-relapse occurrence in the train set\")\n",
    "ax.legend(loc=\"upper right\")\n",
    "\n",
    "plt.xlabel('Participants')\n",
    "plt.ylabel('Frequency (Days)')\n",
    "plt.show()\n"
   ]
  },
  {
   "cell_type": "markdown",
   "id": "c0a5695f",
   "metadata": {},
   "source": [
    "### Distribution and statistical test"
   ]
  },
  {
   "cell_type": "code",
   "execution_count": 2,
   "id": "c226afff",
   "metadata": {},
   "outputs": [],
   "source": [
    "raw_data_list = sorted(['../input/' + file for file in os.listdir('../input') if file[0:8] == 'input_v2'])\n",
    "col = ['day_index','lin_acc_norm', 'ang_acc_norm', 'heartRate_mean',\n",
    "       'heartRate_max', 'heartRate_min', 'rRInterval_mean', 'rRInterval_rmssd',\n",
    "       'rRInterval_sdnn', 'rRInterval_sd1', 'rRInterval_sd2',\n",
    "       'rRInterval_lombscargle_power_high', 'rRInterval_lombscargle_power_low',\n",
    "       'sleeping','label']\n",
    "\n",
    "var_list = ['day_index','lin_acc_norm', 'ang_acc_norm', 'heartRate_mean',\n",
    "       'heartRate_max', 'heartRate_min', 'rRInterval_mean', 'rRInterval_rmssd',\n",
    "       'rRInterval_sdnn', 'rRInterval_sd1', 'rRInterval_sd2',\n",
    "       'rRInterval_lombscargle_power_high', 'rRInterval_lombscargle_power_low','outcome']\n",
    "\n",
    "raw_data = []\n",
    "sleep_data = []\n",
    "awake_data = []\n",
    "\n",
    "for i in range(1):\n",
    "       raw_data = pd.read_csv(raw_data_list[i], index_col=0)[col]\n",
    "       # raw_data.append(df)\n",
    "# raw_data = pd.concat(raw_data, axis=0)\n",
    "       raw_data['outcome'] = raw_data['label'].apply(lambda x: 0 if x == 'normal' else 1)\n",
    "\n",
    "       sleep = raw_data[raw_data.sleeping == 1.0]\n",
    "       awake = raw_data[raw_data.sleeping == 0.0]\n",
    "\n",
    "       # df = raw_data[var_list].groupby(['outcome','day_index']).mean().reset_index()\n",
    "       df_sleep = sleep[var_list].groupby(['outcome','day_index']).mean().reset_index()\n",
    "       df_awake = awake[var_list].groupby(['outcome','day_index']).mean().reset_index()\n",
    "\n",
    "       sleep_data.append(df_sleep)\n",
    "       awake_data.append(df_awake)\n",
    "\n",
    "sleep_final = pd.concat(sleep_data, axis=0)\n",
    "awake_final = pd.concat(awake_data, axis=0)"
   ]
  },
  {
   "cell_type": "code",
   "execution_count": 5,
   "id": "abb893a5",
   "metadata": {},
   "outputs": [
    {
     "name": "stdout",
     "output_type": "stream",
     "text": [
      "For all variables: \n",
      "\n",
      "ks_statisitc: \n",
      " [0.52, 0.36, 0.57, 0.39, 0.5, 0.6, 0.5, 0.61, 0.51, 0.64]\n",
      "adjusted p-values: \n",
      " [0.02       0.166      0.01       0.11777778 0.02       0.00666667\n",
      " 0.02       0.005      0.02       0.005     ]\n",
      "data distribution (mean1, std1, mean2, std2): \n",
      " [[0.5, 0.17, 0.68, 0.13], [5.87, 2.52, 7.96, 2.74], [90.92, 14.15, 101.87, 9.52], [697.13, 59.78, 681.33, 15.97], [126.37, 38.4, 124.63, 15.6], [110.42, 34.31, 99.08, 10.42], [89.23, 27.26, 88.11, 11.04], [124.01, 41.03, 106.46, 10.94], [0.04, 0.06, 0.06, 0.03], [0.02, 0.02, 0.03, 0.01]]\n"
     ]
    }
   ],
   "source": [
    "var_list = ['lin_acc_norm', 'ang_acc_norm', 'heartRate_mean',\n",
    "       'rRInterval_mean', 'rRInterval_rmssd',\n",
    "       'rRInterval_sdnn', 'rRInterval_sd1', 'rRInterval_sd2',\n",
    "       'rRInterval_lombscargle_power_high', 'rRInterval_lombscargle_power_low',]\n",
    "\n",
    "# var_list = ['lin_acc_norm', 'heartRate_mean', 'rRInterval_mean', 'rRInterval_rmssd','rRInterval_sdnn']\n",
    "ks_statistic, adjusted_pval, data_distribution = statistical_test(awake_final, var_list, [])\n",
    "print(\"For all variables: \\n\")\n",
    "print(\"ks_statisitc: \\n\", ks_statistic)\n",
    "print(\"adjusted p-values: \\n\", adjusted_pval)\n",
    "print(\"data distribution (mean1, std1, mean2, std2): \\n\", data_distribution)"
   ]
  },
  {
   "cell_type": "code",
   "execution_count": 10,
   "id": "2992127d",
   "metadata": {},
   "outputs": [
    {
     "data": {
      "image/png": "[encoded data removed]",
      "text/plain": [
       "<Figure size 216x432 with 1 Axes>"
      ]
     },
     "metadata": {
      "needs_background": "light"
     },
     "output_type": "display_data"
    }
   ],
   "source": [
    "awake_final['label'] = awake_final['outcome'].apply(lambda x: \"non-relapse\" if x == 0 else \"relapse\")\n",
    "sleep_final['label'] = sleep_final['outcome'].apply(lambda x: \"non-relapse\" if x == 0 else \"relapse\")\n",
    "plt.figure(figsize=(3,6))\n",
    "sns.boxplot(data=awake_final, y='rRInterval_mean', x='label')\n",
    "plt.xlabel('')\n",
    "plt.ylabel('RR Interval (millisecond)')\n",
    "plt.show()\n",
    "# plt.ylim([0.005,0.03])"
   ]
  },
  {
   "cell_type": "code",
   "execution_count": null,
   "id": "21b48661",
   "metadata": {},
   "outputs": [],
   "source": []
  }
 ],
 "metadata": {
  "kernelspec": {
   "display_name": "Python 3",
   "language": "python",
   "name": "python3"
  },
  "language_info": {
   "codemirror_mode": {
    "name": "ipython",
    "version": 3
   },
   "file_extension": ".py",
   "mimetype": "text/x-python",
   "name": "python",
   "nbconvert_exporter": "python",
   "pygments_lexer": "ipython3",
   "version": "3.8.8"
  }
 },
 "nbformat": 4,
 "nbformat_minor": 5
}
